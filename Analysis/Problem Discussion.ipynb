{
 "cells": [
  {
   "cell_type": "markdown",
   "metadata": {},
   "source": [
    "# Examining Downtown Toronto Neighbourhood For Setting Up a Grocery Store\n"
   ]
  },
  {
   "cell_type": "markdown",
   "metadata": {},
   "source": [
    "# Problem Statement"
   ]
  },
  {
   "cell_type": "markdown",
   "metadata": {},
   "source": [
    "To build a model which can be used to analyze whether a business is to be setup in a particular location  "
   ]
  },
  {
   "cell_type": "markdown",
   "metadata": {},
   "source": [
    "### Which neighbourhood(s) would be ideal to start a Grocery Store in Downtown Toronto area?\n",
    "\n",
    "Downtown Toronto is the city centre and main central business district of Toronto, Ontario, Canada. Located entirely within the district of Old Toronto, it is approximately 14 square kilometers in area, bounded by Bloor Street to the north, Lake Ontario to the south, the Don Valley to the east, and Bathurst Street to the west. It is also the governmental centre of the City of Toronto and the Province of Ontario. \n",
    "\n",
    "<a href = \"https://en.wikipedia.org/wiki/Downtown_Toronto\">\n",
    "    Click here for more about Downtown Toronto </a>\n",
    "<br>\n",
    "<br>\n",
    "\n",
    "    \n",
    "    \n",
    "The Aim is to build a model which can further be used to analyze the neighborhoods of a particular country to come up with a solution from a business perspective ."
   ]
  },
  {
   "cell_type": "markdown",
   "metadata": {},
   "source": [
    "# Background \n",
    "\n",
    "A very crucial point while starting up a business is to analyze the neighborhoods \n",
    "\n",
    "Features to be considered \n",
    "* Population Demographics\n",
    "* Competition\n",
    "* Amenities\n",
    "* Location Costs\n",
    "* Communication\n",
    "* Personal Factors\n",
    "\n"
   ]
  },
  {
   "cell_type": "markdown",
   "metadata": {},
   "source": [
    "We can start analysing the neighborhood as a very first step "
   ]
  }
 ],
 "metadata": {
  "kernelspec": {
   "display_name": "Python 3",
   "language": "python",
   "name": "python3"
  },
  "language_info": {
   "codemirror_mode": {
    "name": "ipython",
    "version": 3
   },
   "file_extension": ".py",
   "mimetype": "text/x-python",
   "name": "python",
   "nbconvert_exporter": "python",
   "pygments_lexer": "ipython3",
   "version": "3.6.6"
  }
 },
 "nbformat": 4,
 "nbformat_minor": 2
}
