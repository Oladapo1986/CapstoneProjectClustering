{
 "cells": [
  {
   "cell_type": "markdown",
   "metadata": {},
   "source": [
    "## Data Description"
   ]
  },
  {
   "cell_type": "markdown",
   "metadata": {},
   "source": [
    "For our business case we will be using data For the Toronto neighborhood , a Wikipedia page exists that has all the information we need to explore and cluster the neighborhoods in Toronto. We will be required to scrape the Wikipedia page and wrangle the data, clean it, and then read it into a pandas dataframe so that it is in a structured format like the New York dataset."
   ]
  },
  {
   "cell_type": "markdown",
   "metadata": {},
   "source": [
    "### Foursquare API\n",
    "\n",
    "We would be using the Foursqare.com API to obtain and analyze the venues in and around Downtown Toronto. Foursquare provides a simple and elegant API to use for developers to access its huge quantities of location data. \n",
    "\n",
    "### Geocoding using geopy or geocoder\n",
    "\n",
    "We would need to use a geocoder to fetch latitude and longitude coordinates of any location (in our case Downtown Toronto ).\n",
    "\n",
    "### Web Scraping\n",
    "\n",
    "We would need to scrape a wikipedia page to obtain the list of boroughs and neighbourhoods for Toronto . Then we can filter out the unwanted data required for the analysis .\n",
    "\n",
    "The wikipage can be found below:\n",
    "\n",
    "<a href = \"https://en.wikipedia.org/wiki/List_of_postal_codes_of_Canada:_M\">\n",
    "    Click here for a list of boroughs and neighbourhoods in Toronto </a>"
   ]
  }
 ],
 "metadata": {
  "kernelspec": {
   "display_name": "Python 3",
   "language": "python",
   "name": "python3"
  },
  "language_info": {
   "codemirror_mode": {
    "name": "ipython",
    "version": 3
   },
   "file_extension": ".py",
   "mimetype": "text/x-python",
   "name": "python",
   "nbconvert_exporter": "python",
   "pygments_lexer": "ipython3",
   "version": "3.6.6"
  }
 },
 "nbformat": 4,
 "nbformat_minor": 2
}
